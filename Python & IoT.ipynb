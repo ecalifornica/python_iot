{
 "cells": [
  {
   "cell_type": "markdown",
   "metadata": {},
   "source": [
    "# SF Python"
   ]
  },
  {
   "cell_type": "markdown",
   "metadata": {},
   "source": [
    "This notebook can be found here:\n",
    "\n",
    "https://github.com/ecalifornica/python_iot\n",
    "\n",
    "#### Micropython docs\n",
    "\n",
    "https://docs.micropython.org/en/latest/esp8266/index.html\n",
    "\n",
    "https://github.com/micropython/micropython/tree/master/ports/esp8266\n",
    "\n",
    "https://github.com/micropython/micropython\n",
    "\n",
    "https://github.com/micropython/micropython-lib\n",
    "\n",
    "\n",
    "#### Transfer files to ESP8266\n",
    "\n",
    "https://github.com/wendlers/mpfshell\n",
    "\n",
    "https://github.com/adafruit/ampy\n",
    "\n",
    "https://learn.adafruit.com/micropython-basics-load-files-and-run-code/disable-esp8266-debug-output\n",
    "\n",
    "\n",
    "#### Sensors\n",
    "https://www.adafruit.com/category/35\n",
    "\n",
    "https://www.sparkfun.com/categories/23\n",
    "\n",
    "\n",
    "#### Soldering iron\n",
    "https://www.amazon.com/Weller-WES51-Analog-Soldering-Station/dp/B000BRC2XU\n",
    "    \n",
    "\n",
    "#### ESP8266 board descriptions\n",
    "https://tttapa.github.io/ESP8266/Chap02%20-%20Hardware.html\n",
    "\n",
    "http://www.esp8266.com/wiki/doku.php?id=esp8266-module-family\n",
    "\n",
    "\n",
    "#### Jeff Fischer's in-depth docs:\n",
    "http://micropython-iot-hackathon.readthedocs.io/en/latest/index.html"
   ]
  },
  {
   "cell_type": "code",
   "execution_count": 63,
   "metadata": {
    "collapsed": true
   },
   "outputs": [],
   "source": [
    "# pip install esptool"
   ]
  },
  {
   "cell_type": "code",
   "execution_count": 17,
   "metadata": {},
   "outputs": [
    {
     "name": "stdout",
     "output_type": "stream",
     "text": [
      "crw-rw-rw-  1 root  wheel   17,   0 Sep 12 22:18 \u001b[34m\u001b[43m/dev/tty.Bluetooth-Incoming-Port\u001b[m\u001b[m\r\n",
      "crw-rw-rw-  1 root  wheel   17,   2 Sep 13 03:13 \u001b[34m\u001b[43m/dev/tty.SLAB_USBtoUART\u001b[m\u001b[m\r\n"
     ]
    }
   ],
   "source": [
    "# Replace /dev/tty.SLABtoUART with your serial port\n",
    "ll /dev/tty.*"
   ]
  },
  {
   "cell_type": "code",
   "execution_count": 25,
   "metadata": {},
   "outputs": [
    {
     "name": "stdout",
     "output_type": "stream",
     "text": [
      "esptool.py v2.1\n",
      "Connecting....\n",
      "Detecting chip type... ESP8266\n",
      "Chip is ESP8266\n",
      "Uploading stub...\n",
      "Running stub...\n",
      "Stub running...\n",
      "Erasing flash (this may take a while)...\n",
      "Chip erase completed successfully in 13.2s\n",
      "Hard resetting...\n"
     ]
    }
   ],
   "source": [
    "%%bash\n",
    "esptool.py --port /dev/tty.SLAB_USBtoUART erase_flash"
   ]
  },
  {
   "cell_type": "code",
   "execution_count": null,
   "metadata": {
    "collapsed": true
   },
   "outputs": [],
   "source": [
    "# Download firmware http://micropython.org/download#esp8266"
   ]
  },
  {
   "cell_type": "code",
   "execution_count": 26,
   "metadata": {},
   "outputs": [
    {
     "name": "stdout",
     "output_type": "stream",
     "text": [
      "esptool.py v2.1\n",
      "Connecting....\n",
      "Detecting chip type... ESP8266\n",
      "Chip is ESP8266\n",
      "Uploading stub...\n",
      "Running stub...\n",
      "Stub running...\n",
      "Changing baud rate to 460800\n",
      "Changed.\n",
      "Configuring flash size...\n",
      "Auto-detected Flash size: 4MB\n",
      "Flash params set to 0x0040\n",
      "Compressed 576496 bytes to 378840...\n",
      "\r",
      "Writing at 0x00000000... (4 %)\r",
      "Writing at 0x00004000... (8 %)\r",
      "Writing at 0x00008000... (12 %)\r",
      "Writing at 0x0000c000... (16 %)\r",
      "Writing at 0x00010000... (20 %)\r",
      "Writing at 0x00014000... (25 %)\r",
      "Writing at 0x00018000... (29 %)\r",
      "Writing at 0x0001c000... (33 %)\r",
      "Writing at 0x00020000... (37 %)\r",
      "Writing at 0x00024000... (41 %)\r",
      "Writing at 0x00028000... (45 %)\r",
      "Writing at 0x0002c000... (50 %)\r",
      "Writing at 0x00030000... (54 %)\r",
      "Writing at 0x00034000... (58 %)\r",
      "Writing at 0x00038000... (62 %)\r",
      "Writing at 0x0003c000... (66 %)\r",
      "Writing at 0x00040000... (70 %)\r",
      "Writing at 0x00044000... (75 %)\r",
      "Writing at 0x00048000... (79 %)\r",
      "Writing at 0x0004c000... (83 %)\r",
      "Writing at 0x00050000... (87 %)\r",
      "Writing at 0x00054000... (91 %)\r",
      "Writing at 0x00058000... (95 %)\r",
      "Writing at 0x0005c000... (100 %)\r",
      "Wrote 576496 bytes (378840 compressed) at 0x00000000 in 9.1 seconds (effective 509.0 kbit/s)...\n",
      "Hash of data verified.\n",
      "\n",
      "Leaving...\n",
      "Hard resetting...\n"
     ]
    }
   ],
   "source": [
    "%%bash\n",
    "esptool.py --port /dev/tty.SLAB_USBtoUART --baud 460800 \\\n",
    "write_flash --flash_size=detect 0 ./esp8266-firmware.bin"
   ]
  },
  {
   "cell_type": "markdown",
   "metadata": {
    "collapsed": true
   },
   "source": [
    "screen /dev/tty.SLAB_USBtoUART 115200\n",
    "ctrl-a b  reset the REPL\n",
    "print('hello world')\n",
    "ctrl-a k  exit screen"
   ]
  },
  {
   "cell_type": "markdown",
   "metadata": {
    "collapsed": true
   },
   "source": [
    "MPFShell commands:\n",
    "open connection:\n",
    "open tty.SLAB_USBtoUART\n",
    "start repl:\n",
    "repl\n",
    "exit repl:\n",
    "ctrl-alt-]\n",
    "filesystem commands:\n",
    "help\n",
    "ls\n",
    "put main.py\n",
    "exit"
   ]
  },
  {
   "cell_type": "code",
   "execution_count": null,
   "metadata": {
    "collapsed": true
   },
   "outputs": [],
   "source": []
  },
  {
   "cell_type": "markdown",
   "metadata": {
    "collapsed": true
   },
   "source": [
    "If MPFShell won't connect, check that you're disconnected from screen\n",
    "and that there is no loop running which seems to prevent a connection\n",
    "(This seems to be a problem with mpfshell only, not ampy)\n",
    "\n",
    "to reattach to a detached screen\n",
    "screen -r\n",
    "\n",
    "or attach if there is no detached screen\n",
    "screen\n",
    "\n",
    "to interrupt a tight while True loop preventing mpfshell from connecting\n",
    "ctrl-c\n",
    "\n",
    "ctrl-a k"
   ]
  },
  {
   "cell_type": "markdown",
   "metadata": {
    "collapsed": true
   },
   "source": [
    "##### Robert Queenin\n",
    "@ecalifornica\n",
    "\n",
    "queenin@gmail.com"
   ]
  },
  {
   "cell_type": "code",
   "execution_count": null,
   "metadata": {
    "collapsed": true
   },
   "outputs": [],
   "source": []
  }
 ],
 "metadata": {
  "kernelspec": {
   "display_name": "Python [default]",
   "language": "python",
   "name": "python3"
  },
  "language_info": {
   "codemirror_mode": {
    "name": "ipython",
    "version": 3
   },
   "file_extension": ".py",
   "mimetype": "text/x-python",
   "name": "python",
   "nbconvert_exporter": "python",
   "pygments_lexer": "ipython3",
   "version": "3.6.2"
  }
 },
 "nbformat": 4,
 "nbformat_minor": 2
}
